{
  "nbformat": 4,
  "nbformat_minor": 0,
  "metadata": {
    "colab": {
      "provenance": [],
      "authorship_tag": "ABX9TyM/Fqg3Vt27w7EZndfkmWsT",
      "include_colab_link": true
    },
    "kernelspec": {
      "name": "python3",
      "display_name": "Python 3"
    },
    "language_info": {
      "name": "python"
    }
  },
  "cells": [
    {
      "cell_type": "markdown",
      "metadata": {
        "id": "view-in-github",
        "colab_type": "text"
      },
      "source": [
        "<a href=\"https://colab.research.google.com/github/kuppamcharan0606/Business-Analyst-Time-Series-Modeling-/blob/master/Business_Analyst_(Time_Series_Modeling).ipynb\" target=\"_parent\"><img src=\"https://colab.research.google.com/assets/colab-badge.svg\" alt=\"Open In Colab\"/></a>"
      ]
    },
    {
      "cell_type": "code",
      "execution_count": 193,
      "metadata": {
        "id": "Xic6IUlhMnS-"
      },
      "outputs": [],
      "source": [
        "import pandas as pd\n",
        "import numpy as np\n",
        "import matplotlib.pyplot as plt\n",
        "from statsmodels.tsa.arima.model import ARIMA\n",
        "from sklearn.preprocessing import StandardScaler\n",
        "from keras.models import Sequential\n",
        "from keras.layers import Dense, LSTM, Dropout\n",
        "from sklearn.model_selection import train_test_split\n",
        "from sklearn.metrics import mean_squared_error, r2_score, accuracy_score\n",
        "from lazypredict.Supervised import LazyRegressor"
      ]
    },
    {
      "cell_type": "code",
      "source": [
        "df = pd.read_excel('https://docs.google.com/spreadsheets/d/1BSO9_52GLGwe2WrtB3TpS9QqXGk3mM0L/export?format=xlsx')"
      ],
      "metadata": {
        "id": "UxSfoA7GZUPS"
      },
      "execution_count": 194,
      "outputs": []
    },
    {
      "cell_type": "code",
      "source": [
        "df.head()"
      ],
      "metadata": {
        "id": "jtnBl2aGZch9"
      },
      "execution_count": null,
      "outputs": []
    },
    {
      "cell_type": "code",
      "source": [
        "df.reset_index(inplace=True)\n",
        "df.set_index('Date', inplace=True)\n",
        "df.drop(['Australia _export','Canada_export', 'Saudi_export', 'Usa_export', 'India_export',\n",
        "       'Russia_export', 'South_Africa_export', 'Turkey', 'Brazil',\n",
        "       'France_export', 'Germeny_export', 'United Kingdome_export',\n",
        "       'China_export', 'Australia _import', 'Canada_import', 'Saudi_import',\n",
        "       'Usa_import', 'India_import', 'Russia_import', 'South_Africa_import',\n",
        "       'Turkey_import', 'Brazil_import', 'France_import', 'Germeny_import',\n",
        "       'United Kingdome_import', 'China_import', 'Japan_import',\n",
        "       'South_korea_import'], axis=1, inplace=True)\n",
        "print(df.columns)"
      ],
      "metadata": {
        "id": "RolXQEN5ZqgV"
      },
      "execution_count": null,
      "outputs": []
    },
    {
      "cell_type": "code",
      "source": [
        "train_data = df.iloc[:-12]\n",
        "test_data = df.iloc[-12:]"
      ],
      "metadata": {
        "id": "qRbgwOGcb-ut"
      },
      "execution_count": 196,
      "outputs": []
    },
    {
      "cell_type": "code",
      "source": [
        "import pandas as pd\n",
        "import numpy as np\n",
        "from statsmodels.tsa.arima.model import ARIMA\n",
        "from sklearn.metrics import mean_squared_error\n",
        "\n",
        "# Assuming you have a target column named 'target_column'\n",
        "target_column = 'Domestic Market (Contract) Blow Molding, Low'\n",
        "\n",
        "# Split the data into train and test sets\n",
        "train_size = int(len(df) * 0.8)\n",
        "train_data = df[:train_size]\n",
        "test_data = df[train_size:]\n",
        "\n",
        "# Fit and evaluate ARIMA model\n",
        "def arima_model(train, test):\n",
        "    history = train.values\n",
        "    predictions = []\n",
        "    for t in range(len(test)):\n",
        "        model = ARIMA(history, order=(2,1,1))  # Set appropriate values for p, d, q\n",
        "        model_fit = model.fit()\n",
        "        forecast = model_fit.forecast()[0]\n",
        "        predictions.append(forecast)\n",
        "        history = np.append(history, test[t])\n",
        "    mse = mean_squared_error(test, predictions)\n",
        "    rmse = np.sqrt(mse)\n",
        "    return predictions, rmse\n",
        "\n",
        "# Train and evaluate the ARIMA model\n",
        "arima_predictions, arima_rmse = arima_model(train_data[target_column], test_data[target_column])\n"
      ],
      "metadata": {
        "id": "Lae518W9clal"
      },
      "execution_count": 197,
      "outputs": []
    },
    {
      "cell_type": "code",
      "source": [
        "import pandas as pd\n",
        "import numpy as np\n",
        "from sklearn.preprocessing import MinMaxScaler\n",
        "from keras.models import Sequential\n",
        "from keras.layers import LSTM, Dense\n",
        "\n",
        "# Assuming you have a target column named 'target_column'\n",
        "target_column = 'Domestic Market (Contract) Blow Molding, Low'\n",
        "\n",
        "# Split the data into train and test sets\n",
        "train_size = int(len(df) * 0.8)\n",
        "train_data = df[:train_size]\n",
        "test_data = df[train_size:]\n",
        "\n",
        "# Scale the data using MinMaxScaler\n",
        "scaler = MinMaxScaler(feature_range=(0, 1))\n",
        "scaled_train_data = scaler.fit_transform(train_data[[target_column]])\n",
        "scaled_test_data = scaler.transform(test_data[[target_column]])\n",
        "\n",
        "# Define the lookback window size\n",
        "lookback = 10\n",
        "\n",
        "# Function to create input features and target variable for LSTM\n",
        "def create_dataset(data, lookback):\n",
        "    X, y = [], []\n",
        "    for i in range(len(data)-lookback):\n",
        "        X.append(data[i:i+lookback, 0])\n",
        "        y.append(data[i+lookback, 0])\n",
        "    return np.array(X), np.array(y)\n",
        "\n",
        "# Create the input features and target variable for LSTM\n",
        "X_train, y_train = create_dataset(scaled_train_data, lookback)\n",
        "X_test, y_test = create_dataset(scaled_test_data, lookback)\n",
        "\n",
        "# Reshape the input features for LSTM (samples, time steps, features)\n",
        "X_train = np.reshape(X_train, (X_train.shape[0], X_train.shape[1], 1))\n",
        "X_test = np.reshape(X_test, (X_test.shape[0], X_test.shape[1], 1))\n",
        "\n",
        "# Build the LSTM model\n",
        "model = Sequential()\n",
        "model.add(LSTM(50, return_sequences=True, input_shape=(lookback, 1)))\n",
        "model.add(LSTM(50))\n",
        "model.add(Dense(1))\n",
        "model.compile(loss='mean_squared_error', optimizer='adam')\n",
        "\n",
        "# Train the LSTM model\n",
        "model.fit(X_train, y_train, epochs=100, batch_size=32, verbose=1)\n",
        "\n",
        "# Make predictions using the trained model\n",
        "train_predictions = model.predict(X_train)\n",
        "lstm_predictions = model.predict(X_test)\n",
        "\n",
        "# Inverse scale the predictions\n",
        "train_predictions = scaler.inverse_transform(train_predictions)\n",
        "lstm_predictions = scaler.inverse_transform(lstm_predictions)"
      ],
      "metadata": {
        "colab": {
          "base_uri": "https://localhost:8080/"
        },
        "id": "6DZiYS46nsbX",
        "outputId": "15291b2e-2f91-4afa-d4b0-146cc61ab457"
      },
      "execution_count": 198,
      "outputs": [
        {
          "output_type": "stream",
          "name": "stdout",
          "text": [
            "Epoch 1/100\n",
            "7/7 [==============================] - 1s 112ms/step - loss: 0.2042\n",
            "Epoch 2/100\n",
            "7/7 [==============================] - 1s 145ms/step - loss: 0.0350\n",
            "Epoch 3/100\n",
            "7/7 [==============================] - 1s 152ms/step - loss: 0.0329\n",
            "Epoch 4/100\n",
            "7/7 [==============================] - 1s 152ms/step - loss: 0.0222\n",
            "Epoch 5/100\n",
            "7/7 [==============================] - 1s 111ms/step - loss: 0.0202\n",
            "Epoch 6/100\n",
            "7/7 [==============================] - 1s 115ms/step - loss: 0.0190\n",
            "Epoch 7/100\n",
            "7/7 [==============================] - 1s 118ms/step - loss: 0.0169\n",
            "Epoch 8/100\n",
            "7/7 [==============================] - 1s 114ms/step - loss: 0.0170\n",
            "Epoch 9/100\n",
            "7/7 [==============================] - 1s 112ms/step - loss: 0.0164\n",
            "Epoch 10/100\n",
            "7/7 [==============================] - 1s 115ms/step - loss: 0.0158\n",
            "Epoch 11/100\n",
            "7/7 [==============================] - 1s 113ms/step - loss: 0.0159\n",
            "Epoch 12/100\n",
            "7/7 [==============================] - 1s 113ms/step - loss: 0.0153\n",
            "Epoch 13/100\n",
            "7/7 [==============================] - 1s 109ms/step - loss: 0.0154\n",
            "Epoch 14/100\n",
            "7/7 [==============================] - 1s 109ms/step - loss: 0.0155\n",
            "Epoch 15/100\n",
            "7/7 [==============================] - 1s 114ms/step - loss: 0.0150\n",
            "Epoch 16/100\n",
            "7/7 [==============================] - 1s 114ms/step - loss: 0.0148\n",
            "Epoch 17/100\n",
            "7/7 [==============================] - 1s 149ms/step - loss: 0.0148\n",
            "Epoch 18/100\n",
            "7/7 [==============================] - 1s 153ms/step - loss: 0.0147\n",
            "Epoch 19/100\n",
            "7/7 [==============================] - 1s 147ms/step - loss: 0.0146\n",
            "Epoch 20/100\n",
            "7/7 [==============================] - 1s 117ms/step - loss: 0.0144\n",
            "Epoch 21/100\n",
            "7/7 [==============================] - 1s 112ms/step - loss: 0.0145\n",
            "Epoch 22/100\n",
            "7/7 [==============================] - 1s 114ms/step - loss: 0.0145\n",
            "Epoch 23/100\n",
            "7/7 [==============================] - 1s 114ms/step - loss: 0.0139\n",
            "Epoch 24/100\n",
            "7/7 [==============================] - 1s 113ms/step - loss: 0.0136\n",
            "Epoch 25/100\n",
            "7/7 [==============================] - 1s 110ms/step - loss: 0.0134\n",
            "Epoch 26/100\n",
            "7/7 [==============================] - 1s 115ms/step - loss: 0.0134\n",
            "Epoch 27/100\n",
            "7/7 [==============================] - 1s 127ms/step - loss: 0.0129\n",
            "Epoch 28/100\n",
            "7/7 [==============================] - 1s 111ms/step - loss: 0.0128\n",
            "Epoch 29/100\n",
            "7/7 [==============================] - 1s 113ms/step - loss: 0.0126\n",
            "Epoch 30/100\n",
            "7/7 [==============================] - 1s 109ms/step - loss: 0.0122\n",
            "Epoch 31/100\n",
            "7/7 [==============================] - 1s 121ms/step - loss: 0.0121\n",
            "Epoch 32/100\n",
            "7/7 [==============================] - 1s 151ms/step - loss: 0.0119\n",
            "Epoch 33/100\n",
            "7/7 [==============================] - 1s 150ms/step - loss: 0.0113\n",
            "Epoch 34/100\n",
            "7/7 [==============================] - 1s 140ms/step - loss: 0.0113\n",
            "Epoch 35/100\n",
            "7/7 [==============================] - 1s 117ms/step - loss: 0.0107\n",
            "Epoch 36/100\n",
            "7/7 [==============================] - 1s 116ms/step - loss: 0.0104\n",
            "Epoch 37/100\n",
            "7/7 [==============================] - 1s 110ms/step - loss: 0.0104\n",
            "Epoch 38/100\n",
            "7/7 [==============================] - 1s 112ms/step - loss: 0.0114\n",
            "Epoch 39/100\n",
            "7/7 [==============================] - 1s 114ms/step - loss: 0.0119\n",
            "Epoch 40/100\n",
            "7/7 [==============================] - 1s 111ms/step - loss: 0.0100\n",
            "Epoch 41/100\n",
            "7/7 [==============================] - 1s 114ms/step - loss: 0.0101\n",
            "Epoch 42/100\n",
            "7/7 [==============================] - 1s 117ms/step - loss: 0.0105\n",
            "Epoch 43/100\n",
            "7/7 [==============================] - 1s 108ms/step - loss: 0.0105\n",
            "Epoch 44/100\n",
            "7/7 [==============================] - 1s 113ms/step - loss: 0.0100\n",
            "Epoch 45/100\n",
            "7/7 [==============================] - 1s 109ms/step - loss: 0.0110\n",
            "Epoch 46/100\n",
            "7/7 [==============================] - 1s 109ms/step - loss: 0.0101\n",
            "Epoch 47/100\n",
            "7/7 [==============================] - 1s 155ms/step - loss: 0.0096\n",
            "Epoch 48/100\n",
            "7/7 [==============================] - 1s 151ms/step - loss: 0.0093\n",
            "Epoch 49/100\n",
            "7/7 [==============================] - 1s 144ms/step - loss: 0.0093\n",
            "Epoch 50/100\n",
            "7/7 [==============================] - 1s 109ms/step - loss: 0.0090\n",
            "Epoch 51/100\n",
            "7/7 [==============================] - 1s 112ms/step - loss: 0.0088\n",
            "Epoch 52/100\n",
            "7/7 [==============================] - 1s 108ms/step - loss: 0.0087\n",
            "Epoch 53/100\n",
            "7/7 [==============================] - 1s 116ms/step - loss: 0.0085\n",
            "Epoch 54/100\n",
            "7/7 [==============================] - 1s 110ms/step - loss: 0.0088\n",
            "Epoch 55/100\n",
            "7/7 [==============================] - 1s 112ms/step - loss: 0.0087\n",
            "Epoch 56/100\n",
            "7/7 [==============================] - 1s 111ms/step - loss: 0.0085\n",
            "Epoch 57/100\n",
            "7/7 [==============================] - 1s 110ms/step - loss: 0.0081\n",
            "Epoch 58/100\n",
            "7/7 [==============================] - 1s 115ms/step - loss: 0.0081\n",
            "Epoch 59/100\n",
            "7/7 [==============================] - 1s 112ms/step - loss: 0.0080\n",
            "Epoch 60/100\n",
            "7/7 [==============================] - 1s 127ms/step - loss: 0.0087\n",
            "Epoch 61/100\n",
            "7/7 [==============================] - 1s 114ms/step - loss: 0.0079\n",
            "Epoch 62/100\n",
            "7/7 [==============================] - 1s 155ms/step - loss: 0.0076\n",
            "Epoch 63/100\n",
            "7/7 [==============================] - 1s 178ms/step - loss: 0.0076\n",
            "Epoch 64/100\n",
            "7/7 [==============================] - 1s 135ms/step - loss: 0.0073\n",
            "Epoch 65/100\n",
            "7/7 [==============================] - 1s 109ms/step - loss: 0.0083\n",
            "Epoch 66/100\n",
            "7/7 [==============================] - 1s 111ms/step - loss: 0.0073\n",
            "Epoch 67/100\n",
            "7/7 [==============================] - 1s 113ms/step - loss: 0.0071\n",
            "Epoch 68/100\n",
            "7/7 [==============================] - 1s 115ms/step - loss: 0.0077\n",
            "Epoch 69/100\n",
            "7/7 [==============================] - 1s 107ms/step - loss: 0.0075\n",
            "Epoch 70/100\n",
            "7/7 [==============================] - 1s 114ms/step - loss: 0.0081\n",
            "Epoch 71/100\n",
            "7/7 [==============================] - 1s 112ms/step - loss: 0.0084\n",
            "Epoch 72/100\n",
            "7/7 [==============================] - 1s 111ms/step - loss: 0.0066\n",
            "Epoch 73/100\n",
            "7/7 [==============================] - 1s 117ms/step - loss: 0.0065\n",
            "Epoch 74/100\n",
            "7/7 [==============================] - 1s 114ms/step - loss: 0.0062\n",
            "Epoch 75/100\n",
            "7/7 [==============================] - 1s 108ms/step - loss: 0.0064\n",
            "Epoch 76/100\n",
            "7/7 [==============================] - 2s 325ms/step - loss: 0.0061\n",
            "Epoch 77/100\n",
            "7/7 [==============================] - 1s 158ms/step - loss: 0.0060\n",
            "Epoch 78/100\n",
            "7/7 [==============================] - 1s 149ms/step - loss: 0.0059\n",
            "Epoch 79/100\n",
            "7/7 [==============================] - 1s 113ms/step - loss: 0.0060\n",
            "Epoch 80/100\n",
            "7/7 [==============================] - 1s 120ms/step - loss: 0.0064\n",
            "Epoch 81/100\n",
            "7/7 [==============================] - 1s 119ms/step - loss: 0.0054\n",
            "Epoch 82/100\n",
            "7/7 [==============================] - 1s 121ms/step - loss: 0.0053\n",
            "Epoch 83/100\n",
            "7/7 [==============================] - 1s 108ms/step - loss: 0.0053\n",
            "Epoch 84/100\n",
            "7/7 [==============================] - 1s 115ms/step - loss: 0.0052\n",
            "Epoch 85/100\n",
            "7/7 [==============================] - 1s 118ms/step - loss: 0.0049\n",
            "Epoch 86/100\n",
            "7/7 [==============================] - 1s 117ms/step - loss: 0.0063\n",
            "Epoch 87/100\n",
            "7/7 [==============================] - 1s 111ms/step - loss: 0.0057\n",
            "Epoch 88/100\n",
            "7/7 [==============================] - 1s 111ms/step - loss: 0.0055\n",
            "Epoch 89/100\n",
            "7/7 [==============================] - 1s 115ms/step - loss: 0.0049\n",
            "Epoch 90/100\n",
            "7/7 [==============================] - 1s 134ms/step - loss: 0.0045\n",
            "Epoch 91/100\n",
            "7/7 [==============================] - 1s 147ms/step - loss: 0.0044\n",
            "Epoch 92/100\n",
            "7/7 [==============================] - 2s 263ms/step - loss: 0.0043\n",
            "Epoch 93/100\n",
            "7/7 [==============================] - 2s 235ms/step - loss: 0.0046\n",
            "Epoch 94/100\n",
            "7/7 [==============================] - 1s 111ms/step - loss: 0.0048\n",
            "Epoch 95/100\n",
            "7/7 [==============================] - 1s 109ms/step - loss: 0.0044\n",
            "Epoch 96/100\n",
            "7/7 [==============================] - 1s 114ms/step - loss: 0.0045\n",
            "Epoch 97/100\n",
            "7/7 [==============================] - 1s 113ms/step - loss: 0.0045\n",
            "Epoch 98/100\n",
            "7/7 [==============================] - 1s 112ms/step - loss: 0.0043\n",
            "Epoch 99/100\n",
            "7/7 [==============================] - 1s 113ms/step - loss: 0.0040\n",
            "Epoch 100/100\n",
            "7/7 [==============================] - 1s 115ms/step - loss: 0.0040\n",
            "7/7 [==============================] - 0s 44ms/step\n",
            "2/2 [==============================] - 0s 44ms/step\n"
          ]
        }
      ]
    },
    {
      "cell_type": "code",
      "source": [
        "# Fit the model\n",
        "reg = LazyRegressor(verbose=0, ignore_warnings=False, custom_metric=None)\n",
        "X_train, X_test, y_train, y_test = train_test_split(train_data.drop('Domestic Market (Contract) Blow Molding, Low', axis=1), train_data['Domestic Market (Contract) Blow Molding, Low'], test_size=0.2, random_state=42)\n",
        "lazy_predictions = reg.fit(X_train, X_test, y_train, y_test)\n",
        "\n",
        "# Select only the predictions for the test data\n",
        "lazy_predictions_df = pd.DataFrame({'Prediction': lazy_predictions})\n",
        "lazy_predictions = lazy_predictions_df.iloc[-12:]['Prediction'].values"
      ],
      "metadata": {
        "colab": {
          "base_uri": "https://localhost:8080/"
        },
        "id": "_-ai6RpwuILm",
        "outputId": "806c6d64-9048-4d85-c226-75608a4fbe37"
      },
      "execution_count": 199,
      "outputs": [
        {
          "output_type": "stream",
          "name": "stderr",
          "text": [
            "100%|██████████| 42/42 [00:02<00:00, 15.59it/s]\n"
          ]
        }
      ]
    },
    {
      "cell_type": "code",
      "source": [
        "# Calculate evaluation metrics\n",
        "def directional_accuracy(y_true, y_pred):\n",
        "    return np.mean(np.sign(y_true.diff().iloc[1:]) == np.sign(y_pred.diff().iloc[1:]))\n",
        "\n",
        "print('ARIMA Metrics:')\n",
        "print('RMSE:', mean_squared_error(test_data['Domestic Market (Contract) Blow Molding, Low'], arima_predictions, squared=False))\n",
        "print('MSE:', mean_squared_error(test_data['Domestic Market (Contract) Blow Molding, Low'], arima_predictions))\n",
        "print('R2:', r2_score(test_data['Domestic Market (Contract) Blow Molding, Low'], arima_predictions))\n",
        "print('')\n",
        "\n",
        "print('LSTM Metrics:')\n",
        "y_true = test_data['Domestic Market (Contract) Blow Molding, Low'].values[-46:]\n",
        "print('RMSE:', mean_squared_error(y_true, lstm_predictions, squared=False))\n",
        "print('MSE:', mean_squared_error(y_true, lstm_predictions))\n",
        "print('R2:', r2_score(y_true, lstm_predictions))\n",
        "print('')\n"
      ],
      "metadata": {
        "colab": {
          "base_uri": "https://localhost:8080/"
        },
        "id": "lqD09MgNvE2X",
        "outputId": "c4aaca28-5369-4ca8-ea43-4940974f4556"
      },
      "execution_count": 200,
      "outputs": [
        {
          "output_type": "stream",
          "name": "stdout",
          "text": [
            "ARIMA Metrics:\n",
            "RMSE: 5.224083911017431\n",
            "MSE: 27.291052709351174\n",
            "R2: 0.9086019789741463\n",
            "\n",
            "LSTM Metrics:\n",
            "RMSE: 6.984124514626741\n",
            "MSE: 48.7779952358102\n",
            "R2: 0.8652085806423722\n",
            "\n"
          ]
        }
      ]
    },
    {
      "cell_type": "code",
      "source": [
        "from sklearn.metrics import mean_squared_error, r2_score\n",
        "from sklearn.model_selection import train_test_split\n",
        "from xgboost import XGBRegressor\n",
        "\n",
        "# Split the data into train and test sets\n",
        "train_size = int(len(df) * 0.7)\n",
        "train_data, test_data = df.iloc[:train_size], df.iloc[train_size:]\n",
        "\n",
        "# Prepare the train and test data\n",
        "X_train, y_train = train_data.drop(columns=['Domestic Market (Contract) Blow Molding, Low']), train_data['Domestic Market (Contract) Blow Molding, Low']\n",
        "X_test, y_test = test_data.drop(columns=['Domestic Market (Contract) Blow Molding, Low']), test_data['Domestic Market (Contract) Blow Molding, Low']\n",
        "\n",
        "# Build the XGBoost regressor model\n",
        "model = XGBRegressor()\n",
        "model.fit(X_train, y_train)\n",
        "\n",
        "# Make predictions using the XGBoost regressor model\n",
        "xgb_predictions = model.predict(X_test)\n",
        "\n",
        "# Calculate RMSE, MSE, and R2 for the model\n",
        "rmse_xgb = np.sqrt(mean_squared_error(y_test, xgb_predictions))\n",
        "mse_xgb = mean_squared_error(y_test, xgb_predictions)\n",
        "r2_xgb = r2_score(y_test, xgb_predictions)"
      ],
      "metadata": {
        "id": "QDNCuTg4T4tV"
      },
      "execution_count": 201,
      "outputs": []
    },
    {
      "cell_type": "code",
      "source": [
        "print('XGBOOST Metrics:')\n",
        "print('RMSE:', rmse_xgb)\n",
        "print('MSE:', mse_xgb)\n",
        "print('R2:', r2_xgb)\n",
        "print('')"
      ],
      "metadata": {
        "colab": {
          "base_uri": "https://localhost:8080/"
        },
        "id": "MljDhpftXyqO",
        "outputId": "8676f51a-6120-41a0-9db5-a59f47ca893b"
      },
      "execution_count": 202,
      "outputs": [
        {
          "output_type": "stream",
          "name": "stdout",
          "text": [
            "XGBOOST Metrics:\n",
            "RMSE: 8.968185105599208\n",
            "MSE: 80.42834408829148\n",
            "R2: 0.6515841853132337\n",
            "\n"
          ]
        }
      ]
    }
  ]
}